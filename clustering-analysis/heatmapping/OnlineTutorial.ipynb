{
 "cells": [
  {
   "cell_type": "markdown",
   "metadata": {},
   "source": [
    "# Relprop and sensitivity from the web\n",
    "http://heatmapping.org/tutorial/"
   ]
  },
  {
   "cell_type": "code",
   "execution_count": null,
   "metadata": {
    "ExecuteTime": {
     "end_time": "2017-09-18T13:01:02.372362Z",
     "start_time": "2017-09-18T13:01:02.331042Z"
    }
   },
   "outputs": [],
   "source": [
    "from __future__ import absolute_import\n",
    "from __future__ import division\n",
    "from __future__ import print_function\n",
    "#imports\n",
    "import logging\n",
    "import sys\n",
    "logging.basicConfig(\n",
    "    stream=sys.stdout,\n",
    "    level=logging.DEBUG,\n",
    "    format='%(asctime)s %(name)s-%(levelname)s: %(message)s',\n",
    "    datefmt='%Y-%m-%d %H:%M:%S')\n",
    "import mdtraj as md\n",
    "import numpy, copy, PIL, PIL.Image\n",
    "import modules, utils\n",
    "import matplotlib.pyplot as plt\n",
    "\n",
    "class Network(modules.Network):\n",
    "    def relprop(self, R):\n",
    "        for l in self.layers[::-1]:\n",
    "            R = l.relprop(R)\n",
    "        return R\n",
    "\n",
    "\n",
    "class ReLU(modules.ReLU):\n",
    "    def relprop(self, R):\n",
    "        return R\n",
    "\n",
    "\n",
    "class NextLinear(modules.Linear):\n",
    "    def relprop(self, R):\n",
    "        V = numpy.maximum(0, self.W)\n",
    "        Z = numpy.dot(self.X, V) + 1e-9\n",
    "        S = R / Z\n",
    "        C = numpy.dot(S, V.T)\n",
    "        R = self.X * C\n",
    "        return R\n",
    "\n",
    "\n",
    "class FirstLinear(modules.Linear):\n",
    "    def relprop(self, R):\n",
    "        W, V, U = self.W, numpy.maximum(0, self.W), numpy.minimum(0, self.W)\n",
    "        X, L, H = self.X, self.X * 0 + utils.lowest, self.X * 0 + utils.highest\n",
    "\n",
    "        Z = numpy.dot(X, W) - numpy.dot(L, V) - numpy.dot(H, U) + 1e-9\n",
    "        S = R / Z\n",
    "        R = X * numpy.dot(S, W.T) - L * numpy.dot(S, V.T) - H * numpy.dot(\n",
    "            S, U.T)\n",
    "        return R\n",
    "    \n",
    "def visualize(x,colormap,name):\n",
    "\n",
    "    N = len(x); assert(N<=16)\n",
    "\n",
    "    x = colormap(x/numpy.abs(x).max())\n",
    "\n",
    "    # Create a mosaic and upsample\n",
    "    x = x.reshape([1,N,28,28,3])\n",
    "    x = numpy.pad(x,((0,0),(0,0),(2,2),(2,2),(0,0)),'constant',constant_values=1)\n",
    "    x = x.transpose([0,2,1,3,4]).reshape([1*32,N*32,3])\n",
    "    x = numpy.kron(x,numpy.ones([2,2,1]))\n",
    "\n",
    "    image = PIL.Image.fromarray((x*255).astype('byte'),'RGB')\n",
    "    plt.figure(figsize=(16, 3))\n",
    "\n",
    "    im = plt.imshow(image)\n",
    "    plt.show()"
   ]
  },
  {
   "cell_type": "markdown",
   "metadata": {},
   "source": [
    "# Sensitivity"
   ]
  },
  {
   "cell_type": "code",
   "execution_count": null,
   "metadata": {
    "ExecuteTime": {
     "end_time": "2017-09-18T13:02:20.121485Z",
     "start_time": "2017-09-18T13:02:19.792490Z"
    }
   },
   "outputs": [],
   "source": [
    "nn = modules.Network([\n",
    "    modules.Linear('mlp/l1'),\n",
    "    modules.ReLU(),\n",
    "    modules.Linear('mlp/l2'),\n",
    "    modules.ReLU(),\n",
    "    modules.Linear('mlp/l3'),\n",
    "])\n",
    "\n",
    "X,T = utils.getMNISTsample(N=12,path='mnist/',seed=1234)\n",
    "visualize(X,utils.graymap,'data.png')\n",
    "Y = nn.forward(X)\n",
    "S = nn.gradprop(T)**2\n",
    "visualize(S,utils.heatmap,'mlp-sensitivity.png')\n",
    "print(X.shape, T.shape)\n"
   ]
  },
  {
   "cell_type": "markdown",
   "metadata": {},
   "source": [
    "# Rel prop"
   ]
  },
  {
   "cell_type": "code",
   "execution_count": null,
   "metadata": {
    "ExecuteTime": {
     "end_time": "2017-09-18T13:09:28.726165Z",
     "start_time": "2017-09-18T13:09:28.505191Z"
    }
   },
   "outputs": [],
   "source": [
    "nn = Network([\n",
    "    FirstLinear('mlp/l1'),ReLU(),\n",
    "    NextLinear('mlp/l2'),ReLU(),\n",
    "    NextLinear('mlp/l3'),ReLU(),\n",
    "])\n",
    "Y = nn.forward(X)\n",
    "D = nn.relprop(Y*T)\n",
    "visualize(D,utils.heatmap,'mlp-deeptaylor.png')\n",
    "print(\"X shape (imagecount, pixelcount) = \", X.shape)\n",
    "print(\"T shape (imagecount, number of classifier)=\", T.shape)\n",
    "print(\"T Non zero elements = \", len(T[T != 0]))\n",
    "print(\"D shape\", D.shape)\n",
    "first_layer = nn.layers[0]\n",
    "print(\"Weights shape\",first_layer.W.shape)\n",
    "print(\"bias shape\",first_layer.B.shape)"
   ]
  },
  {
   "cell_type": "code",
   "execution_count": null,
   "metadata": {},
   "outputs": [],
   "source": []
  }
 ],
 "metadata": {
  "kernelspec": {
   "display_name": "Python 2",
   "language": "python",
   "name": "python2"
  },
  "language_info": {
   "codemirror_mode": {
    "name": "ipython",
    "version": 2
   },
   "file_extension": ".py",
   "mimetype": "text/x-python",
   "name": "python",
   "nbconvert_exporter": "python",
   "pygments_lexer": "ipython2",
   "version": "2.7.15"
  },
  "toc": {
   "base_numbering": 1,
   "nav_menu": {
    "height": "66px",
    "width": "252px"
   },
   "number_sections": true,
   "sideBar": true,
   "skip_h1_title": false,
   "title_cell": "Table of Contents",
   "title_sidebar": "Contents",
   "toc_cell": false,
   "toc_position": {},
   "toc_section_display": "block",
   "toc_window_display": true
  },
  "varInspector": {
   "cols": {
    "lenName": 16,
    "lenType": 16,
    "lenVar": 40
   },
   "kernels_config": {
    "python": {
     "delete_cmd_postfix": "",
     "delete_cmd_prefix": "del ",
     "library": "var_list.py",
     "varRefreshCmd": "print(var_dic_list())"
    },
    "r": {
     "delete_cmd_postfix": ") ",
     "delete_cmd_prefix": "rm(",
     "library": "var_list.r",
     "varRefreshCmd": "cat(var_dic_list()) "
    }
   },
   "types_to_exclude": [
    "module",
    "function",
    "builtin_function_or_method",
    "instance",
    "_Feature"
   ],
   "window_display": false
  }
 },
 "nbformat": 4,
 "nbformat_minor": 2
}
