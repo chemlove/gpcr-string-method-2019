{
 "cells": [
  {
   "cell_type": "markdown",
   "metadata": {
    "toc": "true"
   },
   "source": [
    "<h1>Table of Contents<span class=\"tocSkip\"></span></h1>\n",
    "<div class=\"toc\"><ul class=\"toc-item\"><li><span><a href=\"#INIT\" data-toc-modified-id=\"INIT-1\"><span class=\"toc-item-num\">1&nbsp;&nbsp;</span>INIT</a></span></li><li><span><a href=\"#Compute-contact-distances\" data-toc-modified-id=\"Compute-contact-distances-2\"><span class=\"toc-item-num\">2&nbsp;&nbsp;</span>Compute contact distances</a></span></li><li><span><a href=\"#Do-spectral-clustering\" data-toc-modified-id=\"Do-spectral-clustering-3\"><span class=\"toc-item-num\">3&nbsp;&nbsp;</span>Do spectral clustering</a></span></li><li><span><a href=\"#Extract-cluster\" data-toc-modified-id=\"Extract-cluster-4\"><span class=\"toc-item-num\">4&nbsp;&nbsp;</span>Extract cluster</a></span></li><li><span><a href=\"#Visualize-results\" data-toc-modified-id=\"Visualize-results-5\"><span class=\"toc-item-num\">5&nbsp;&nbsp;</span>Visualize results</a></span><ul class=\"toc-item\"><li><span><a href=\"#With-VMD-script\" data-toc-modified-id=\"With-VMD-script-5.1\"><span class=\"toc-item-num\">5.1&nbsp;&nbsp;</span>With VMD script</a></span></li><li><span><a href=\"#Cluster-indices-per-frame\" data-toc-modified-id=\"Cluster-indices-per-frame-5.2\"><span class=\"toc-item-num\">5.2&nbsp;&nbsp;</span>Cluster indices per frame</a></span></li></ul></li></ul></div>"
   ]
  },
  {
   "cell_type": "markdown",
   "metadata": {},
   "source": [
    "# INIT"
   ]
  },
  {
   "cell_type": "code",
   "execution_count": null,
   "metadata": {
    "ExecuteTime": {
     "end_time": "2019-03-06T16:12:14.765779Z",
     "start_time": "2019-03-06T16:11:56.987506Z"
    }
   },
   "outputs": [],
   "source": [
    "from __future__ import absolute_import\n",
    "from __future__ import division\n",
    "from __future__ import print_function\n",
    "\n",
    "import logging\n",
    "import sys\n",
    "logging.basicConfig(\n",
    "    stream=sys.stdout,\n",
    "    level=logging.DEBUG,\n",
    "    format='%(asctime)s %(name)s-%(levelname)s: %(message)s',\n",
    "    datefmt='%Y-%m-%d %H:%M:%S')\n",
    "import subprocess\n",
    "import mdtraj as md\n",
    "from argparse import ArgumentParser\n",
    "import numpy as np\n",
    "import matplotlib\n",
    "# matplotlib.use('TkAgg')  #select different GUI backend for interactive plots\n",
    "import matplotlib.pyplot as plt\n",
    "plt.style.use(\"seaborn-colorblind\")\n",
    "import os\n",
    "import math\n",
    "import itertools\n",
    "from shutil import copyfile\n",
    "from helpfunc import *\n",
    "from colvars import *\n",
    "sys.path.append('MD_common/')\n",
    "import MD_fun\n",
    "from MD_spectral_clustering import SpectralClustering\n",
    "from MD_extract_clusters import ExtractClusters\n",
    "import nbimporter\n",
    "import AnalyzeClusteredFrames as ancf\n",
    "os.chdir(get_project_path())\n",
    "\n",
    "logger = logging.getLogger(\"clustertrajs\")\n",
    "\n",
    "\n",
    "def load_traj(inputdir, traj_names, top_names, strides=None):\n",
    "    traj = None\n",
    "    for i, name in enumerate(traj_names):\n",
    "        trajpath = inputdir + name\n",
    "        stride=1 if strides is None else strides[i]\n",
    "        if len(top_names) == 0 or top_names[i] is None:\n",
    "            t = md.load(\n",
    "                trajpath,\n",
    "                stride=stride)\n",
    "        else:\n",
    "            t = md.load(\n",
    "                trajpath,\n",
    "                top=inputdir + top_names[i],\n",
    "                stride=stride)\n",
    "        traj = t if traj is None else traj + t\n",
    "    return traj\n",
    "\n",
    "\n",
    "outdir = \"Result_Data/beta2-dror/clustering/\"\n",
    "trajtype = \"DROR-A\" \n",
    "dt = 5\n",
    "traj_names, top_names = [], []\n",
    "strides = None\n",
    "inputdir = \"DESRES-Trajectory_pnas2011b-A-00-no-water-no-lipid/pnas2011b-A-00-no-water-no-lipid/\"\n",
    "outdir = inputdir + \"clustering/\"\n",
    "strides = [1]\n",
    "traj_names, top_names = [\"all.dcd\"], [\"all.pdb\"]\n",
    "dt = 10\n",
    "strides = [1]\n",
    "fulltrajname=\"SHOULDNOTSAVE\"\n",
    "cluster_outdir = outdir + \"clustering/\"\n",
    "traj = load_traj(inputdir, traj_names, top_names, strides)\n",
    "    \n",
    "logger.debug(\n",
    "    \"Done. inputdir=%s, Loaded trajectory %s from %s trajectories. fulltrajname=%s, strides=%s, dt=%s \",\n",
    "    inputdir, traj, len(traj_names), fulltrajname, strides, dt)"
   ]
  },
  {
   "cell_type": "markdown",
   "metadata": {
    "collapsed": true
   },
   "source": [
    "# Compute contact distances"
   ]
  },
  {
   "cell_type": "code",
   "execution_count": null,
   "metadata": {
    "ExecuteTime": {
     "end_time": "2019-03-05T08:34:26.655692Z",
     "start_time": "2019-03-05T08:34:19.169104Z"
    }
   },
   "outputs": [],
   "source": [
    "def compute_CAs(traj, input_args, dt=1):\n",
    "    fun = MD_fun.MD_functions()\n",
    "    fun.initialize_trajectory(ArgumentParser(), input_args=input_args)\n",
    "    \n",
    "    #distance functions\n",
    "    spectral_norm = lambda x, y, i, j: np.linalg.norm(x - y, ord=2)\n",
    "    frobenius_norm = lambda x, y, i, j: np.linalg.norm(x - y, ord='fro')\n",
    "\n",
    "    process_count = 7\n",
    "    #mkl.set_num_threads(process_count)\n",
    "    frame_to_frame_dists, all_frame_contact_matrices = fun.computeFrameToFrameCalphaContacts(\n",
    "        traj[::dt], async=False, computeContactNorm=spectral_norm, process_count=process_count)\n",
    "    frame_norms = [np.linalg.norm(m) for m in all_frame_contact_matrices]\n",
    "    plt.hist(frame_norms)\n",
    "    plt.show()\n",
    "    return frame_to_frame_dists, all_frame_contact_matrices\n",
    "\n",
    "\n",
    "logger.debug(\"Started computing distances for a traj with %s frames and dt=%s\",\n",
    "             len(traj), dt)\n",
    "\n",
    "compute_CAs(traj, [\"-od\", outdir], dt=dt)\n",
    "\n",
    "logger.debug(\"Done\")"
   ]
  },
  {
   "cell_type": "markdown",
   "metadata": {},
   "source": [
    "# Do spectral clustering"
   ]
  },
  {
   "cell_type": "code",
   "execution_count": null,
   "metadata": {
    "ExecuteTime": {
     "end_time": "2019-03-06T16:42:20.176983Z",
     "start_time": "2019-03-06T16:35:09.971740Z"
    },
    "scrolled": true
   },
   "outputs": [],
   "source": [
    "frame_to_frame_filename = \"frame_to_frame_CA_contacts_.txt\"\n",
    "\n",
    "logger.info(\"Loading cluster file from %s/%s\", outdir, frame_to_frame_filename)\n",
    "clustering = SpectralClustering()\n",
    "clustering.initialization(\n",
    "    ArgumentParser(),\n",
    "    input_args=[\n",
    "        \"-id\", outdir, \"-d\", frame_to_frame_filename, \"-od\",\n",
    "        cluster_outdir, \"-cdist\"\n",
    "    ])\n",
    "clustering.cluster()\n",
    "logger.debug(\"Done\")"
   ]
  },
  {
   "cell_type": "markdown",
   "metadata": {},
   "source": [
    "# Extract cluster"
   ]
  },
  {
   "cell_type": "code",
   "execution_count": null,
   "metadata": {
    "ExecuteTime": {
     "end_time": "2019-03-06T17:01:14.686020Z",
     "start_time": "2019-03-06T16:42:21.385519Z"
    }
   },
   "outputs": [],
   "source": [
    "# cluster_outdir = outdir + \"clustering_7_clusters/\"\n",
    "\n",
    "clusterer = ExtractClusters()\n",
    "clusterer.main(\n",
    "    ArgumentParser(),\n",
    "    [\"-ind\", cluster_outdir + \"cluster_indices_.txt\", \"-od\", cluster_outdir],\n",
    "    input_traj=traj[::dt])\n",
    "cluster_frames_path = cluster_outdir + \"clustered_frames/\"\n",
    "#copy toplogy file for convencience when looking at the frames\n",
    "# copyfile(inputdir + top_names[0],cluster_frames_path + top_names[0])\n",
    "logger.debug(\"Done\")"
   ]
  },
  {
   "cell_type": "markdown",
   "metadata": {},
   "source": [
    "# Visualize results"
   ]
  },
  {
   "cell_type": "markdown",
   "metadata": {},
   "source": [
    "## With VMD script"
   ]
  },
  {
   "cell_type": "code",
   "execution_count": null,
   "metadata": {
    "ExecuteTime": {
     "end_time": "2019-03-06T17:01:14.954591Z",
     "start_time": "2019-03-06T17:01:14.935634Z"
    }
   },
   "outputs": [],
   "source": [
    "def run_bashscript(scriptpath):\n",
    "    subprocess.call(scriptpath)\n",
    "\n",
    "\n",
    "def run_bash(command):\n",
    "    logger.info(\"Running bash command:\\n%s\", command)\n",
    "    return subprocess.call(command.split())\n",
    "vmd_bash = (\"topology=%s\\n\" \\\n",
    "    +\"cmd=\\\"vmd\\\"\\n\"\\\n",
    "    +\"for f in reps_cluster_*\\n\"\\\n",
    "    +\"do\\n\"\\\n",
    "    +\"    cmd+=\\\" -f $topology $f\\\"\\n\"\\\n",
    "    +\"done\\n\"\\\n",
    "    +\"echo $cmd\\n\"\\\n",
    "    +\"$cmd\\n\")%(inputdir + top_names[0])\n",
    "# run_bash(\"sleep 2\")\n",
    "vmdscript_path = cluster_frames_path + \"openvmd.sh\"\n",
    "with open(vmdscript_path, \"wr\") as bash_script:\n",
    "    bash_script.write(vmd_bash)\n",
    "# run_bash(vmd_bash)\n",
    "logger.debug(\"Done\")\n",
    "# subprocess.call(vmdscript_path)"
   ]
  },
  {
   "cell_type": "markdown",
   "metadata": {},
   "source": [
    "## Cluster indices per frame"
   ]
  },
  {
   "cell_type": "code",
   "execution_count": null,
   "metadata": {
    "ExecuteTime": {
     "end_time": "2019-03-06T17:01:15.977393Z",
     "start_time": "2019-03-06T17:01:14.977381Z"
    }
   },
   "outputs": [],
   "source": [
    "cluster_simu = Simulation({\n",
    "    \"condition\": \"NA\",\n",
    "    \"number\": \"NA\",\n",
    "    \"name\": \"all\",\n",
    "    \"stride\": dt\n",
    "})\n",
    "\n",
    "cluster_simu.clusterpath = cluster_outdir\n",
    "cluster_simu.traj = traj[::dt]\n",
    "# cluster_simu.timestep = 0 #NA\n",
    "cluster_simu = ancf.load_cluster_indices(cluster_simu)\n",
    "\n",
    "plt.figure(figsize=(16,4))\n",
    "plt.plot(cluster_simu.cluster_indices)\n",
    "plt.grid()\n",
    "plt.xlabel(\"Frame #\")\n",
    "plt.ylabel(\"Cluster index\")\n",
    "plt.show()"
   ]
  }
 ],
 "metadata": {
  "kernelspec": {
   "display_name": "Python 2",
   "language": "python",
   "name": "python2"
  },
  "language_info": {
   "codemirror_mode": {
    "name": "ipython",
    "version": 2
   },
   "file_extension": ".py",
   "mimetype": "text/x-python",
   "name": "python",
   "nbconvert_exporter": "python",
   "pygments_lexer": "ipython2",
   "version": "2.7.15"
  },
  "toc": {
   "base_numbering": 1,
   "nav_menu": {
    "height": "467px",
    "width": "272px"
   },
   "number_sections": true,
   "sideBar": true,
   "skip_h1_title": false,
   "title_cell": "Table of Contents",
   "title_sidebar": "Contents",
   "toc_cell": true,
   "toc_position": {
    "height": "853px",
    "left": "0px",
    "right": "20px",
    "top": "107px",
    "width": "294px"
   },
   "toc_section_display": "block",
   "toc_window_display": true
  },
  "varInspector": {
   "cols": {
    "lenName": 16,
    "lenType": 16,
    "lenVar": 40
   },
   "kernels_config": {
    "python": {
     "delete_cmd_postfix": "",
     "delete_cmd_prefix": "del ",
     "library": "var_list.py",
     "varRefreshCmd": "print(var_dic_list())"
    },
    "r": {
     "delete_cmd_postfix": ") ",
     "delete_cmd_prefix": "rm(",
     "library": "var_list.r",
     "varRefreshCmd": "cat(var_dic_list()) "
    }
   },
   "position": {
    "height": "599px",
    "left": "2190px",
    "right": "20px",
    "top": "120px",
    "width": "336px"
   },
   "types_to_exclude": [
    "module",
    "function",
    "builtin_function_or_method",
    "instance",
    "_Feature"
   ],
   "window_display": false
  }
 },
 "nbformat": 4,
 "nbformat_minor": 2
}
